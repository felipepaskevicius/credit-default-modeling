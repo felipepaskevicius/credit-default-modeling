{
 "cells": [
  {
   "cell_type": "markdown",
   "metadata": {},
   "source": [
    "### Importação de bibliotecas"
   ]
  },
  {
   "cell_type": "code",
   "execution_count": 2,
   "metadata": {},
   "outputs": [],
   "source": [
    "import pandas as pd\n",
    "from sklearn.model_selection import train_test_split"
   ]
  },
  {
   "cell_type": "markdown",
   "metadata": {},
   "source": [
    "### Ler dados"
   ]
  },
  {
   "cell_type": "code",
   "execution_count": 3,
   "metadata": {},
   "outputs": [],
   "source": [
    "class DataLoader:\n",
    "    def __init__(self, file_path: str, file_type: str, **kwargs):\n",
    "        self.file_path = file_path\n",
    "        self.file_type = file_type\n",
    "        self.kwargs = kwargs\n",
    "        self.load_functions = {\n",
    "            \"csv\": self.load_csv,\n",
    "            \"excel\": self.load_excel\n",
    "        }\n",
    "\n",
    "    def load_data(self):\n",
    "        try:\n",
    "            return self.load_functions[self.file_type]()\n",
    "        except KeyError:\n",
    "            raise ValueError(f\"Unsupported file type: {self.file_type}\")\n",
    "\n",
    "    def load_csv(self):\n",
    "        return pd.read_csv(self.file_path, **self.kwargs)\n",
    "\n",
    "    def load_excel(self):\n",
    "        return pd.read_excel(self.file_path, **self.kwargs)\n",
    "    \n",
    "\n",
    "# Exemplos de uso:\n",
    "csv_loader = DataLoader(\"../data/Loan_status_2007-2020Q3.gzip\", file_type=\"csv\", low_memory=False)\n",
    "df = csv_loader.load_data()\n",
    "\n",
    "excel_loader = DataLoader(\"https://resources.lendingclub.com/LCDataDictionary.xlsx\", file_type=\"excel\")\n",
    "df2 = excel_loader.load_data()\n"
   ]
  },
  {
   "cell_type": "code",
   "execution_count": 4,
   "metadata": {},
   "outputs": [
    {
     "name": "stdout",
     "output_type": "stream",
     "text": [
      "   Unnamed: 0       id  loan_amnt  funded_amnt  funded_amnt_inv        term  \\\n",
      "0           0  1077501     5000.0       5000.0           4975.0   36 months   \n",
      "1           1  1077430     2500.0       2500.0           2500.0   60 months   \n",
      "2           2  1077175     2400.0       2400.0           2400.0   36 months   \n",
      "3           3  1076863    10000.0      10000.0          10000.0   36 months   \n",
      "4           4  1075358     3000.0       3000.0           3000.0   60 months   \n",
      "\n",
      "  int_rate  installment grade sub_grade  ... hardship_start_date  \\\n",
      "0   10.65%       162.87     B        B2  ...                 NaN   \n",
      "1   15.27%        59.83     C        C4  ...                 NaN   \n",
      "2   15.96%        84.33     C        C5  ...                 NaN   \n",
      "3   13.49%       339.31     C        C1  ...                 NaN   \n",
      "4   12.69%        67.79     B        B5  ...                 NaN   \n",
      "\n",
      "  hardship_end_date payment_plan_start_date  hardship_length hardship_dpd  \\\n",
      "0               NaN                     NaN              NaN          NaN   \n",
      "1               NaN                     NaN              NaN          NaN   \n",
      "2               NaN                     NaN              NaN          NaN   \n",
      "3               NaN                     NaN              NaN          NaN   \n",
      "4               NaN                     NaN              NaN          NaN   \n",
      "\n",
      "  hardship_loan_status orig_projected_additional_accrued_interest  \\\n",
      "0                  NaN                                        NaN   \n",
      "1                  NaN                                        NaN   \n",
      "2                  NaN                                        NaN   \n",
      "3                  NaN                                        NaN   \n",
      "4                  NaN                                        NaN   \n",
      "\n",
      "  hardship_payoff_balance_amount hardship_last_payment_amount  \\\n",
      "0                            NaN                          NaN   \n",
      "1                            NaN                          NaN   \n",
      "2                            NaN                          NaN   \n",
      "3                            NaN                          NaN   \n",
      "4                            NaN                          NaN   \n",
      "\n",
      "  debt_settlement_flag  \n",
      "0                    N  \n",
      "1                    N  \n",
      "2                    N  \n",
      "3                    N  \n",
      "4                    N  \n",
      "\n",
      "[5 rows x 142 columns]\n",
      "         Unnamed: 0         id  loan_amnt  funded_amnt  funded_amnt_inv  \\\n",
      "2925488      105446  102556443    24000.0      24000.0          24000.0   \n",
      "2925489      105447  102653304    10000.0      10000.0          10000.0   \n",
      "2925490      105448  102628603    10050.0      10050.0          10050.0   \n",
      "2925491      105449  102196576     6000.0       6000.0           6000.0   \n",
      "2925492      105450   99799684    30000.0      30000.0          30000.0   \n",
      "\n",
      "               term int_rate  installment grade sub_grade  ...  \\\n",
      "2925488   60 months   23.99%       690.30     E        E2  ...   \n",
      "2925489   36 months    7.99%       313.32     A        A5  ...   \n",
      "2925490   36 months   16.99%       358.26     D        D1  ...   \n",
      "2925491   36 months   11.44%       197.69     B        B4  ...   \n",
      "2925492   60 months   25.49%       889.18     E        E4  ...   \n",
      "\n",
      "        hardship_start_date hardship_end_date payment_plan_start_date  \\\n",
      "2925488                 NaN               NaN                     NaN   \n",
      "2925489                 NaN               NaN                     NaN   \n",
      "2925490                 NaN               NaN                     NaN   \n",
      "2925491                 NaN               NaN                     NaN   \n",
      "2925492                 NaN               NaN                     NaN   \n",
      "\n",
      "         hardship_length hardship_dpd hardship_loan_status  \\\n",
      "2925488              NaN          NaN                  NaN   \n",
      "2925489              NaN          NaN                  NaN   \n",
      "2925490              NaN          NaN                  NaN   \n",
      "2925491              NaN          NaN                  NaN   \n",
      "2925492              NaN          NaN                  NaN   \n",
      "\n",
      "        orig_projected_additional_accrued_interest  \\\n",
      "2925488                                        NaN   \n",
      "2925489                                        NaN   \n",
      "2925490                                        NaN   \n",
      "2925491                                        NaN   \n",
      "2925492                                        NaN   \n",
      "\n",
      "        hardship_payoff_balance_amount hardship_last_payment_amount  \\\n",
      "2925488                            NaN                          NaN   \n",
      "2925489                            NaN                          NaN   \n",
      "2925490                            NaN                          NaN   \n",
      "2925491                            NaN                          NaN   \n",
      "2925492                            NaN                          NaN   \n",
      "\n",
      "        debt_settlement_flag  \n",
      "2925488                    N  \n",
      "2925489                    N  \n",
      "2925490                    N  \n",
      "2925491                    N  \n",
      "2925492                    N  \n",
      "\n",
      "[5 rows x 142 columns]\n",
      "            LoanStatNew                                        Description\n",
      "0        acc_now_delinq  The number of accounts on which the borrower i...\n",
      "1  acc_open_past_24mths         Number of trades opened in past 24 months.\n",
      "2            addr_state  The state provided by the borrower in the loan...\n",
      "3              all_util              Balance to credit limit on all trades\n",
      "4            annual_inc  The self-reported annual income provided by th...\n",
      "               LoanStatNew                                        Description\n",
      "148      settlement_amount  The loan amount that the borrower has agreed t...\n",
      "149  settlement_percentage  The settlement amount as a percentage of the p...\n",
      "150        settlement_term  The number of months that the borrower will be...\n",
      "151                    NaN                                                NaN\n",
      "152                    NaN  * Employer Title replaces Employer Name for al...\n"
     ]
    }
   ],
   "source": [
    "print(df.head())\n",
    "print(df.tail())\n",
    "print(df2.head())\n",
    "print(df2.tail())"
   ]
  },
  {
   "cell_type": "markdown",
   "metadata": {},
   "source": [
    "### Pré-processamento de dados\n",
    "Esse é um termo amplo que cobre a filtragem, transformação e qualquer outro tipo de preparação que esteja sendo feito antes da análise ou modelagem."
   ]
  },
  {
   "cell_type": "code",
   "execution_count": 5,
   "metadata": {},
   "outputs": [],
   "source": [
    "# Filtrando apenas as linhas com 'Fully Paid' ou 'Charged Off'\n",
    "df = df.loc[df['loan_status'].isin(['Fully Paid', 'Charged Off'])]\n",
    "\n",
    "# Convertendo 'Fully Paid' para 0 e 'Charged Off' para 1\n",
    "df['loan_status'] = df['loan_status'].map({\n",
    "    'Fully Paid': 0,\n",
    "    'Charged Off': 1\n",
    "})\n"
   ]
  },
  {
   "cell_type": "markdown",
   "metadata": {},
   "source": [
    "### Amostragem de Dados (Sampling)"
   ]
  },
  {
   "cell_type": "code",
   "execution_count": 6,
   "metadata": {},
   "outputs": [
    {
     "name": "stdout",
     "output_type": "stream",
     "text": [
      "(1488264, 141) (372067, 141) (1488264,) (372067,)\n",
      "0.19488343465944213 0.19488425471756432\n"
     ]
    }
   ],
   "source": [
    "# Separação de Features e Target\n",
    "target = 'loan_status'\n",
    "features = df.drop(\"loan_status\", axis=1).columns.to_list()\n",
    "\n",
    "# Dividir conjunto de dados em features (X) e variável alvo (y)\n",
    "X = df[features]\n",
    "y = df[target]\n",
    "\n",
    "# Método para dividir os dados em treino e teste\n",
    "X_Train, X_Test, y_train, y_test = train_test_split(X, y, test_size=0.2, random_state=42, stratify=y)\n",
    "\n",
    "# Verificando as dimensões dos conjuntos de dados de treino e teste\n",
    "print(X_Train.shape, X_Test.shape, y_train.shape, y_test.shape)\n",
    "\n",
    "# Taxa de resposta nos conjuntos de treino e teste\n",
    "print(y_train.mean(), y_test.mean())\n"
   ]
  },
  {
   "cell_type": "markdown",
   "metadata": {},
   "source": [
    "### Decoradores"
   ]
  },
  {
   "cell_type": "code",
   "execution_count": 7,
   "metadata": {},
   "outputs": [],
   "source": [
    "def remove_values(values=None):\n",
    "    def decorator(function):\n",
    "        def wrapper(data) -> pd.DataFrame:\n",
    "            dataframe = function(data) # Call the original function\n",
    "\n",
    "            # DataFrame with rows removed that have the given values.\n",
    "            return dataframe[~dataframe.isin(values).any(axis=1)]\n",
    "        return wrapper\n",
    "    return decorator\n"
   ]
  },
  {
   "cell_type": "markdown",
   "metadata": {},
   "source": [
    "### Exploração de dados"
   ]
  },
  {
   "cell_type": "code",
   "execution_count": 8,
   "metadata": {},
   "outputs": [
    {
     "data": {
      "text/plain": [
       "loan_status\n",
       "0    1198226\n",
       "1     290038\n",
       "Name: count, dtype: int64"
      ]
     },
     "execution_count": 8,
     "metadata": {},
     "output_type": "execute_result"
    }
   ],
   "source": [
    "y_train.value_counts()"
   ]
  },
  {
   "cell_type": "code",
   "execution_count": null,
   "metadata": {},
   "outputs": [
    {
     "data": {
      "text/html": [
       "<div>\n",
       "<style scoped>\n",
       "    .dataframe tbody tr th:only-of-type {\n",
       "        vertical-align: middle;\n",
       "    }\n",
       "\n",
       "    .dataframe tbody tr th {\n",
       "        vertical-align: top;\n",
       "    }\n",
       "\n",
       "    .dataframe thead th {\n",
       "        text-align: right;\n",
       "    }\n",
       "</style>\n",
       "<table border=\"1\" class=\"dataframe\">\n",
       "  <thead>\n",
       "    <tr style=\"text-align: right;\">\n",
       "      <th></th>\n",
       "      <th>next_pymnt_d</th>\n",
       "      <th>hardship_end_date</th>\n",
       "      <th>hardship_loan_status</th>\n",
       "      <th>hardship_dpd</th>\n",
       "      <th>deferral_term</th>\n",
       "      <th>hardship_length</th>\n",
       "      <th>payment_plan_start_date</th>\n",
       "      <th>hardship_status</th>\n",
       "      <th>hardship_reason</th>\n",
       "      <th>hardship_type</th>\n",
       "      <th>...</th>\n",
       "      <th>title</th>\n",
       "      <th>hardship_flag</th>\n",
       "      <th>last_pymnt_d</th>\n",
       "      <th>revol_util</th>\n",
       "      <th>dti</th>\n",
       "      <th>pub_rec_bankruptcies</th>\n",
       "      <th>collections_12_mths_ex_med</th>\n",
       "      <th>chargeoff_within_12_mths</th>\n",
       "      <th>last_credit_pull_d</th>\n",
       "      <th>tax_liens</th>\n",
       "    </tr>\n",
       "  </thead>\n",
       "  <tbody>\n",
       "    <tr>\n",
       "      <th>missing_count</th>\n",
       "      <td>1488264.0</td>\n",
       "      <td>1478093.000</td>\n",
       "      <td>1478101.000</td>\n",
       "      <td>1478093.000</td>\n",
       "      <td>1478093.000</td>\n",
       "      <td>1478093.000</td>\n",
       "      <td>1478093.000</td>\n",
       "      <td>1478093.000</td>\n",
       "      <td>1478092.000</td>\n",
       "      <td>1478093.000</td>\n",
       "      <td>...</td>\n",
       "      <td>17036.000</td>\n",
       "      <td>7485.000</td>\n",
       "      <td>2638.000</td>\n",
       "      <td>1116.000</td>\n",
       "      <td>882.000</td>\n",
       "      <td>559.000</td>\n",
       "      <td>47.000</td>\n",
       "      <td>47.000</td>\n",
       "      <td>48.000</td>\n",
       "      <td>32.000</td>\n",
       "    </tr>\n",
       "    <tr>\n",
       "      <th>missing_percentage</th>\n",
       "      <td>100.0</td>\n",
       "      <td>99.317</td>\n",
       "      <td>99.317</td>\n",
       "      <td>99.317</td>\n",
       "      <td>99.317</td>\n",
       "      <td>99.317</td>\n",
       "      <td>99.317</td>\n",
       "      <td>99.317</td>\n",
       "      <td>99.317</td>\n",
       "      <td>99.317</td>\n",
       "      <td>...</td>\n",
       "      <td>1.145</td>\n",
       "      <td>0.503</td>\n",
       "      <td>0.177</td>\n",
       "      <td>0.075</td>\n",
       "      <td>0.059</td>\n",
       "      <td>0.038</td>\n",
       "      <td>0.003</td>\n",
       "      <td>0.003</td>\n",
       "      <td>0.003</td>\n",
       "      <td>0.002</td>\n",
       "    </tr>\n",
       "  </tbody>\n",
       "</table>\n",
       "<p>2 rows × 95 columns</p>\n",
       "</div>"
      ],
      "text/plain": [
       "                    next_pymnt_d  hardship_end_date  hardship_loan_status  \\\n",
       "missing_count          1488264.0        1478093.000           1478101.000   \n",
       "missing_percentage         100.0             99.317                99.317   \n",
       "\n",
       "                    hardship_dpd  deferral_term  hardship_length  \\\n",
       "missing_count        1478093.000    1478093.000      1478093.000   \n",
       "missing_percentage        99.317         99.317           99.317   \n",
       "\n",
       "                    payment_plan_start_date  hardship_status  hardship_reason  \\\n",
       "missing_count                   1478093.000      1478093.000      1478092.000   \n",
       "missing_percentage                   99.317           99.317           99.317   \n",
       "\n",
       "                    hardship_type  ...      title  hardship_flag  \\\n",
       "missing_count         1478093.000  ...  17036.000       7485.000   \n",
       "missing_percentage         99.317  ...      1.145          0.503   \n",
       "\n",
       "                    last_pymnt_d  revol_util      dti  pub_rec_bankruptcies  \\\n",
       "missing_count           2638.000    1116.000  882.000               559.000   \n",
       "missing_percentage         0.177       0.075    0.059                 0.038   \n",
       "\n",
       "                    collections_12_mths_ex_med  chargeoff_within_12_mths  \\\n",
       "missing_count                           47.000                    47.000   \n",
       "missing_percentage                       0.003                     0.003   \n",
       "\n",
       "                    last_credit_pull_d  tax_liens  \n",
       "missing_count                   48.000     32.000  \n",
       "missing_percentage               0.003      0.002  \n",
       "\n",
       "[2 rows x 95 columns]"
      ]
     },
     "execution_count": 9,
     "metadata": {},
     "output_type": "execute_result"
    },
    {
     "ename": "",
     "evalue": "",
     "output_type": "error",
     "traceback": [
      "\u001b[1;31mThe Kernel crashed while executing code in the current cell or a previous cell. \n",
      "\u001b[1;31mPlease review the code in the cell(s) to identify a possible cause of the failure. \n",
      "\u001b[1;31mClick <a href='https://aka.ms/vscodeJupyterKernelCrash'>here</a> for more info. \n",
      "\u001b[1;31mView Jupyter <a href='command:jupyter.viewOutput'>log</a> for further details."
     ]
    }
   ],
   "source": [
    "@remove_values(values=[0])\n",
    "def missing_summary(dataframe):\n",
    "    missing_data = {\n",
    "      \"missing_count\": dataframe.isnull().sum(),\n",
    "      \"missing_percentage\": dataframe.isnull().mean() * 100,\n",
    "    }\n",
    "\n",
    "    missing_dataframe = pd.DataFrame(missing_data)\n",
    "    return missing_dataframe.sort_values(by=\"missing_percentage\", ascending=False)\n",
    "\n",
    "missing_summary()"
   ]
  },
  {
   "cell_type": "code",
   "execution_count": null,
   "metadata": {},
   "outputs": [],
   "source": []
  }
 ],
 "metadata": {
  "kernelspec": {
   "display_name": "venv",
   "language": "python",
   "name": "python3"
  },
  "language_info": {
   "codemirror_mode": {
    "name": "ipython",
    "version": 3
   },
   "file_extension": ".py",
   "mimetype": "text/x-python",
   "name": "python",
   "nbconvert_exporter": "python",
   "pygments_lexer": "ipython3",
   "version": "3.11.7"
  }
 },
 "nbformat": 4,
 "nbformat_minor": 2
}
