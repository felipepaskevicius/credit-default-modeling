{
 "cells": [
  {
   "cell_type": "markdown",
   "metadata": {},
   "source": [
    "### Importação de bibliotecas"
   ]
  },
  {
   "cell_type": "code",
   "execution_count": null,
   "metadata": {},
   "outputs": [],
   "source": [
    "import pandas as pd"
   ]
  },
  {
   "cell_type": "markdown",
   "metadata": {},
   "source": [
    "### Ler dados"
   ]
  },
  {
   "cell_type": "code",
   "execution_count": null,
   "metadata": {},
   "outputs": [],
   "source": [
    "def load_data_csv(file_path: str, low_memory=False):\n",
    "    \"\"\"\n",
    "    Função para carregar dados a partir de um arquivo CSV.\n",
    "    \n",
    "    :param file_path: Caminho para o arquivo CSV.\n",
    "    :param dtype: Dicionário de tipos de dados para colunas específicas.\n",
    "    :param compression: Tipo de compressão do arquivo (gzip por padrão).\n",
    "    :param low_memory: Flag para evitar problemas de leitura em arquivos grandes.\n",
    "    :return: DataFrame do pandas com os dados carregados.\n",
    "    \"\"\"\n",
    "    return pd.read_csv(file_path, low_memory=low_memory)\n",
    "\n",
    "def load_data_excel(url: str):\n",
    "    \"\"\"\n",
    "    Função para carregar dados de um arquivo Excel.\n",
    "    \n",
    "    :param url: URL ou caminho local do arquivo Excel.\n",
    "    :return: Dicionário de DataFrames com os dados de cada planilha.\n",
    "    \"\"\"\n",
    "    return pd.read_excel(url)\n",
    "\n",
    "df = load_data_csv(\"../data/Loan_status_2007-2020Q3.gzip\")\n",
    "df2 = load_data_excel(\"https://resources.lendingclub.com/LCDataDictionary.xlsx\")\n"
   ]
  },
  {
   "cell_type": "code",
   "execution_count": 36,
   "metadata": {},
   "outputs": [
    {
     "data": {
      "text/plain": [
       "{'LoanStats':                    LoanStatNew                                        Description\n",
       " 0               acc_now_delinq  The number of accounts on which the borrower i...\n",
       " 1         acc_open_past_24mths         Number of trades opened in past 24 months.\n",
       " 2                   addr_state  The state provided by the borrower in the loan...\n",
       " 3                     all_util              Balance to credit limit on all trades\n",
       " 4                   annual_inc  The self-reported annual income provided by th...\n",
       " 5             annual_inc_joint  The combined self-reported annual income provi...\n",
       " 6             application_type  Indicates whether the loan is an individual ap...\n",
       " 7                  avg_cur_bal            Average current balance of all accounts\n",
       " 8               bc_open_to_buy          Total open to buy on revolving bankcards.\n",
       " ..                         ...                                                ...\n",
       " 144       debt_settlement_flag  Flags whether or not the borrower, who has cha...\n",
       " 145  debt_settlement_flag_date  The most recent date that the Debt_Settlement_...\n",
       " 146          settlement_status  The status of the borrower’s settlement plan. ...\n",
       " 147            settlement_date  The date that the borrower agrees to the settl...\n",
       " 148          settlement_amount  The loan amount that the borrower has agreed t...\n",
       " 149      settlement_percentage  The settlement amount as a percentage of the p...\n",
       " 150            settlement_term  The number of months that the borrower will be...\n",
       " 151                        NaN                                                NaN\n",
       " 152                        NaN  * Employer Title replaces Employer Name for al...\n",
       " \n",
       " [153 rows x 2 columns],\n",
       " 'browseNotes':                           BrowseNotesFile                                        Description\n",
       " 0                                 acceptD    The date which the borrower accepted  the offer\n",
       " 1                            accNowDelinq  The number of accounts on which the borrower i...\n",
       " 2                       accOpenPast24Mths         Number of trades opened in past 24 months.\n",
       " 3                               addrState  The state provided by the borrower in the loan...\n",
       " 4                                all_util              Balance to credit limit on all trades\n",
       " 5                        annual_inc_joint  The combined self-reported annual income provi...\n",
       " 6                               annualInc  The self-reported annual income provided by th...\n",
       " 7                        application_type  Indicates whether the loan is an individual ap...\n",
       " 8                             avg_cur_bal            Average current balance of all accounts\n",
       " ..                                    ...                                                ...\n",
       " 113                   sec_app_revol_util    Ratio of total current balance to high credit...\n",
       " 114                   sec_app_open_act_il   Number of currently active installment trades...\n",
       " 115                sec_app_num_rev_accts    Number of revolving accounts at time of appli...\n",
       " 116     sec_app_chargeoff_within_12_mths    Number of charge-offs within last 12 months a...\n",
       " 117   sec_app_collections_12_mths_ex_med    Number of collections within last 12 months e...\n",
       " 118  sec_app_mths_since_last_major_derog    Months since most recent 90-day or worse rati...\n",
       " 119                   disbursement_method  The method by which the borrower receives thei...\n",
       " 120                                   NaN                                                NaN\n",
       " 121                                   NaN  * Employer Title replaces Employer Name for al...\n",
       " \n",
       " [122 rows x 2 columns],\n",
       " 'RejectStats':        RejectStats File                                        Description\n",
       " 0      Amount Requested         The total amount requested by the borrower\n",
       " 1      Application Date               The date which the borrower applied \n",
       " 2            Loan Title            The loan title provided by the borrower\n",
       " 3            Risk_Score  For applications prior to November 5, 2013 the...\n",
       " 4  Debt-To-Income Ratio  A ratio calculated using the borrower’s total ...\n",
       " 5              Zip Code  The first 3 numbers of the zip code provided b...\n",
       " 6                 State  The state provided by the borrower in the loan...\n",
       " 7     Employment Length  Employment length in years. Possible values ar...\n",
       " 8           Policy Code  publicly available policy_code=1\\nnew products...}"
      ]
     },
     "execution_count": 36,
     "metadata": {},
     "output_type": "execute_result"
    }
   ],
   "source": [
    "df2"
   ]
  },
  {
   "cell_type": "markdown",
   "metadata": {},
   "source": [
    "### Decoradores"
   ]
  },
  {
   "cell_type": "code",
   "execution_count": 4,
   "metadata": {},
   "outputs": [],
   "source": [
    "def remove_values(values=None):\n",
    "    def decorator(function):\n",
    "        def wrapper(data) -> pd.DataFrame:\n",
    "            dataframe = function(data) # Call the original function\n",
    "\n",
    "            # DataFrame with rows removed that have the given values.\n",
    "            return dataframe[~dataframe.isin(values).any(axis=1)]\n",
    "        return wrapper\n",
    "    return decorator"
   ]
  },
  {
   "cell_type": "code",
   "execution_count": null,
   "metadata": {},
   "outputs": [],
   "source": [
    "X_Train, X_Test, y_train, y_test = train_test_split(X, y, test_size=0.2,  random_state=42,  stratify=y)\n",
    "\n",
    "print(X_Train.shape, X_Test.shape, y_train.shape, y_test.shape)\n",
    "print(y_train.mean(), y_test.mean())"
   ]
  },
  {
   "cell_type": "markdown",
   "metadata": {},
   "source": [
    "### Exploração de dados"
   ]
  },
  {
   "cell_type": "code",
   "execution_count": null,
   "metadata": {},
   "outputs": [],
   "source": [
    "@remove_values(values=[0])\n",
    "def missing_summary(dataframe):\n",
    "    missing_data = {\n",
    "      \"missing_count\": dataframe.isnull().sum(),\n",
    "      \"missing_percentage\": dataframe.isnull().mean() * 100,\n",
    "    }\n",
    "\n",
    "    missing_dataframe = pd.DataFrame(missing_data)\n",
    "    return missing_dataframe.sort_values(by=\"missing_percentage\", ascending=False)"
   ]
  },
  {
   "cell_type": "code",
   "execution_count": null,
   "metadata": {},
   "outputs": [],
   "source": [
    "missing_summary(X_Train).transpose()"
   ]
  }
 ],
 "metadata": {
  "kernelspec": {
   "display_name": "venv",
   "language": "python",
   "name": "python3"
  },
  "language_info": {
   "codemirror_mode": {
    "name": "ipython",
    "version": 3
   },
   "file_extension": ".py",
   "mimetype": "text/x-python",
   "name": "python",
   "nbconvert_exporter": "python",
   "pygments_lexer": "ipython3",
   "version": "3.11.7"
  }
 },
 "nbformat": 4,
 "nbformat_minor": 2
}
